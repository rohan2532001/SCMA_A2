{
 "cells": [
  {
   "cell_type": "code",
   "execution_count": 1,
   "id": "92925596",
   "metadata": {},
   "outputs": [],
   "source": [
    "import pandas as pd\n",
    "import numpy as np\n",
    "import statsmodels.api as sm\n",
    "from statsmodels.stats.outliers_influence import variance_inflation_factor\n"
   ]
  },
  {
   "cell_type": "code",
   "execution_count": 2,
   "id": "f8a23b95",
   "metadata": {},
   "outputs": [
    {
     "name": "stdout",
     "output_type": "stream",
     "text": [
      "Requirement already satisfied: pandas in d:\\anaconda\\lib\\site-packages (2.1.4)\n",
      "Requirement already satisfied: statsmodels in d:\\anaconda\\lib\\site-packages (0.14.0)\n",
      "Requirement already satisfied: numpy in d:\\anaconda\\lib\\site-packages (1.26.4)\n",
      "Requirement already satisfied: python-dateutil>=2.8.2 in d:\\anaconda\\lib\\site-packages (from pandas) (2.8.2)\n",
      "Requirement already satisfied: pytz>=2020.1 in d:\\anaconda\\lib\\site-packages (from pandas) (2023.3.post1)\n",
      "Requirement already satisfied: tzdata>=2022.1 in d:\\anaconda\\lib\\site-packages (from pandas) (2023.3)\n",
      "Requirement already satisfied: scipy!=1.9.2,>=1.4 in d:\\anaconda\\lib\\site-packages (from statsmodels) (1.11.4)\n",
      "Requirement already satisfied: patsy>=0.5.2 in d:\\anaconda\\lib\\site-packages (from statsmodels) (0.5.3)\n",
      "Requirement already satisfied: packaging>=21.3 in d:\\anaconda\\lib\\site-packages (from statsmodels) (23.1)\n",
      "Requirement already satisfied: six in d:\\anaconda\\lib\\site-packages (from patsy>=0.5.2->statsmodels) (1.16.0)\n",
      "Note: you may need to restart the kernel to use updated packages.\n"
     ]
    }
   ],
   "source": [
    "pip install pandas statsmodels numpy\n"
   ]
  },
  {
   "cell_type": "code",
   "execution_count": 4,
   "id": "e32103a6",
   "metadata": {},
   "outputs": [
    {
     "name": "stdout",
     "output_type": "stream",
     "text": [
      "C:\\Users\\HP\\Desktop\n"
     ]
    }
   ],
   "source": [
    "# Set working directory\n",
    "import os\n",
    "os.chdir('C:\\\\Users\\\\HP\\\\Desktop')\n",
    "print(os.getcwd())"
   ]
  },
  {
   "cell_type": "code",
   "execution_count": 5,
   "id": "c5e97f4a",
   "metadata": {},
   "outputs": [],
   "source": [
    "# Load the dataset\n",
    "data = pd.read_csv(\"NSSO68.csv\" ,  low_memory=False)"
   ]
  },
  {
   "cell_type": "code",
   "execution_count": 6,
   "id": "1f9ac363",
   "metadata": {},
   "outputs": [
    {
     "name": "stdout",
     "output_type": "stream",
     "text": [
      "['GUJ' 'ORI' 'CHTSD' 'MP' 'JRKD' 'WB' 'AP' 'MH' 'D&D' 'D&NH' 'MIZ' 'TRPR'\n",
      " 'MANPR' 'ASSM' 'MEG' 'NAG' 'A&N' 'PNDCRY' 'TN' 'GOA' 'KA' 'KE' 'LKSDP'\n",
      " 'SKM' 'Bhr' 'UP' 'RJ' 'ARP' 'DL' 'HR' 'Pun' 'HP' 'UT' 'Chandr' 'J$K']\n"
     ]
    }
   ],
   "source": [
    "# Display unique values in 'state_1' column\n",
    "print(data['state_1'].unique())"
   ]
  },
  {
   "cell_type": "code",
   "execution_count": 7,
   "id": "48bb7ea1",
   "metadata": {},
   "outputs": [],
   "source": [
    "\n",
    "# Subset data for state 'KA'\n",
    "subset_data = data[['foodtotal_q', 'MPCE_MRP', 'MPCE_URP', 'Age', 'Meals_At_Home', 'Possess_ration_card', 'Education', 'No_of_Meals_per_day']]\n"
   ]
  },
  {
   "cell_type": "code",
   "execution_count": 8,
   "id": "e465ea47",
   "metadata": {},
   "outputs": [
    {
     "name": "stdout",
     "output_type": "stream",
     "text": [
      "        foodtotal_q  MPCE_MRP  MPCE_URP  Age  Meals_At_Home  \\\n",
      "0         30.942394   3662.65   3304.80   50           59.0   \n",
      "1         29.286153   5624.51   7613.00   40           56.0   \n",
      "2         31.527046   3657.18   3461.40   45           60.0   \n",
      "3         27.834607   3260.37   3339.00   75           60.0   \n",
      "4         27.600713   2627.54   2604.25   30           59.0   \n",
      "...             ...       ...       ...  ...            ...   \n",
      "101657    28.441750    832.59    817.00   39           90.0   \n",
      "101658    25.490282    862.13    773.20   38           90.0   \n",
      "101659    25.800107    711.37    663.29   42           90.0   \n",
      "101660    30.220170   1048.32    847.20   40           90.0   \n",
      "101661    26.157279    834.03    689.57   60           90.0   \n",
      "\n",
      "        Possess_ration_card  Education  No_of_Meals_per_day  \n",
      "0                       1.0        8.0                  2.0  \n",
      "1                       1.0       12.0                  2.0  \n",
      "2                       1.0        7.0                  2.0  \n",
      "3                       1.0        6.0                  2.0  \n",
      "4                       1.0        7.0                  2.0  \n",
      "...                     ...        ...                  ...  \n",
      "101657                  2.0        7.0                  3.0  \n",
      "101658                  1.0        6.0                  3.0  \n",
      "101659                  1.0        5.0                  3.0  \n",
      "101660                  1.0        8.0                  3.0  \n",
      "101661                  1.0        1.0                  3.0  \n",
      "\n",
      "[101662 rows x 8 columns]\n"
     ]
    }
   ],
   "source": [
    "# Print subset data\n",
    "print(subset_data)"
   ]
  },
  {
   "cell_type": "code",
   "execution_count": 9,
   "id": "bc52e354",
   "metadata": {},
   "outputs": [
    {
     "name": "stdout",
     "output_type": "stream",
     "text": [
      "0\n",
      "0\n",
      "0\n",
      "13\n",
      "7\n"
     ]
    }
   ],
   "source": [
    "# Check for missing values\n",
    "print(subset_data['MPCE_MRP'].isna().sum())\n",
    "print(subset_data['MPCE_URP'].isna().sum())\n",
    "print(subset_data['Age'].isna().sum())\n",
    "print(subset_data['Possess_ration_card'].isna().sum())\n",
    "print(data['Education'].isna().sum())\n"
   ]
  },
  {
   "cell_type": "code",
   "execution_count": 10,
   "id": "370f5fb2",
   "metadata": {},
   "outputs": [],
   "source": [
    "# Impute missing values with mean\n",
    "def impute_with_mean(df, columns):\n",
    "    for col in columns:\n",
    "        df[col].fillna(df[col].mean(), inplace=True)"
   ]
  },
  {
   "cell_type": "code",
   "execution_count": 11,
   "id": "0ab4561f",
   "metadata": {},
   "outputs": [],
   "source": [
    "# Function to impute missing values with mean\n",
    "def impute_with_mean(df, columns):\n",
    "    for col in columns:\n",
    "        df[col].fillna(df[col].mean(), inplace=True)\n",
    "    return df\n"
   ]
  },
  {
   "cell_type": "code",
   "execution_count": 12,
   "id": "f766c678",
   "metadata": {},
   "outputs": [],
   "source": [
    "# Columns to impute\n",
    "columns_to_impute = ['Education', 'MPCE_MRP', 'MPCE_URP', 'Age', 'Meals_At_Home', 'Possess_ration_card']\n"
   ]
  },
  {
   "cell_type": "code",
   "execution_count": 14,
   "id": "450fd258",
   "metadata": {},
   "outputs": [
    {
     "name": "stderr",
     "output_type": "stream",
     "text": [
      "C:\\Users\\HP\\AppData\\Local\\Temp\\ipykernel_42376\\3413849695.py:4: SettingWithCopyWarning: \n",
      "A value is trying to be set on a copy of a slice from a DataFrame\n",
      "\n",
      "See the caveats in the documentation: https://pandas.pydata.org/pandas-docs/stable/user_guide/indexing.html#returning-a-view-versus-a-copy\n",
      "  df[col].fillna(df[col].mean(), inplace=True)\n"
     ]
    }
   ],
   "source": [
    "# Impute missing values with mean in the subset data\n",
    "subset_data = impute_with_mean(subset_data, columns_to_impute)\n"
   ]
  },
  {
   "cell_type": "code",
   "execution_count": 15,
   "id": "7c9b1928",
   "metadata": {},
   "outputs": [],
   "source": [
    "# Ensure no infinite values\n",
    "subset_data = subset_data.replace([np.inf, -np.inf], np.nan)\n"
   ]
  },
  {
   "cell_type": "code",
   "execution_count": 16,
   "id": "6763ec90",
   "metadata": {},
   "outputs": [],
   "source": [
    "# Drop rows with any remaining NaN values\n",
    "subset_data.dropna(inplace=True)\n"
   ]
  },
  {
   "cell_type": "code",
   "execution_count": 17,
   "id": "b0756cd3",
   "metadata": {},
   "outputs": [],
   "source": [
    "# Fit the regression model\n",
    "X = subset_data[['MPCE_MRP', 'MPCE_URP', 'Age', 'Meals_At_Home', 'Possess_ration_card', 'Education']]\n",
    "X = sm.add_constant(X)  # Add a constant term for the intercept\n",
    "y = subset_data['foodtotal_q']\n",
    "model = sm.OLS(y, X).fit()\n"
   ]
  },
  {
   "cell_type": "code",
   "execution_count": 18,
   "id": "7ffb391f",
   "metadata": {},
   "outputs": [
    {
     "name": "stdout",
     "output_type": "stream",
     "text": [
      "                            OLS Regression Results                            \n",
      "==============================================================================\n",
      "Dep. Variable:            foodtotal_q   R-squared:                       0.160\n",
      "Model:                            OLS   Adj. R-squared:                  0.159\n",
      "Method:                 Least Squares   F-statistic:                     3215.\n",
      "Date:                Tue, 16 Jul 2024   Prob (F-statistic):               0.00\n",
      "Time:                        23:26:26   Log-Likelihood:            -3.6905e+05\n",
      "No. Observations:              101637   AIC:                         7.381e+05\n",
      "Df Residuals:                  101630   BIC:                         7.382e+05\n",
      "Df Model:                           6                                         \n",
      "Covariance Type:            nonrobust                                         \n",
      "=======================================================================================\n",
      "                          coef    std err          t      P>|t|      [0.025      0.975]\n",
      "---------------------------------------------------------------------------------------\n",
      "const                  15.8348      0.210     75.547      0.000      15.424      16.246\n",
      "MPCE_MRP                0.0016   1.73e-05     95.401      0.000       0.002       0.002\n",
      "MPCE_URP            -4.256e-06   8.23e-06     -0.517      0.605   -2.04e-05    1.19e-05\n",
      "Age                     0.0781      0.002     35.264      0.000       0.074       0.082\n",
      "Meals_At_Home           0.0526      0.002     29.730      0.000       0.049       0.056\n",
      "Possess_ration_card    -2.4162      0.074    -32.495      0.000      -2.562      -2.270\n",
      "Education               0.1220      0.008     14.376      0.000       0.105       0.139\n",
      "==============================================================================\n",
      "Omnibus:                    82463.263   Durbin-Watson:                   1.379\n",
      "Prob(Omnibus):                  0.000   Jarque-Bera (JB):         23333499.483\n",
      "Skew:                           2.976   Prob(JB):                         0.00\n",
      "Kurtosis:                      76.989   Cond. No.                     3.86e+04\n",
      "==============================================================================\n",
      "\n",
      "Notes:\n",
      "[1] Standard Errors assume that the covariance matrix of the errors is correctly specified.\n",
      "[2] The condition number is large, 3.86e+04. This might indicate that there are\n",
      "strong multicollinearity or other numerical problems.\n"
     ]
    }
   ],
   "source": [
    "# Print the regression results\n",
    "print(model.summary())\n"
   ]
  },
  {
   "cell_type": "code",
   "execution_count": 19,
   "id": "7edcb592",
   "metadata": {},
   "outputs": [
    {
     "name": "stdout",
     "output_type": "stream",
     "text": [
      "               feature        VIF\n",
      "0                const  53.506630\n",
      "1             MPCE_MRP   1.618222\n",
      "2             MPCE_URP   1.460368\n",
      "3                  Age   1.089462\n",
      "4        Meals_At_Home   1.035366\n",
      "5  Possess_ration_card   1.092325\n",
      "6            Education   1.180639\n"
     ]
    }
   ],
   "source": [
    "# Check for multicollinearity using Variance Inflation Factor (VIF)\n",
    "vif_data = pd.DataFrame()\n",
    "vif_data['feature'] = X.columns\n",
    "vif_data['VIF'] = [variance_inflation_factor(X.values, i) for i in range(X.shape[1])]\n",
    "print(vif_data)  # VIF value more than 8 is problematic\n"
   ]
  },
  {
   "cell_type": "code",
   "execution_count": 20,
   "id": "97a818ff",
   "metadata": {},
   "outputs": [],
   "source": [
    "# Extract the coefficients from the model\n",
    "coefficients = model.params\n"
   ]
  },
  {
   "cell_type": "code",
   "execution_count": 21,
   "id": "55e9b183",
   "metadata": {},
   "outputs": [
    {
     "name": "stdout",
     "output_type": "stream",
     "text": [
      "y = 15.83 + 0.00165*x1 + -4e-06*x2 + 0.078118*x3 + 0.052572*x4 + -2.416189*x5 + 0.121986*x6\n"
     ]
    },
    {
     "name": "stderr",
     "output_type": "stream",
     "text": [
      "C:\\Users\\HP\\AppData\\Local\\Temp\\ipykernel_42376\\1935009114.py:2: FutureWarning: Series.__getitem__ treating keys as positions is deprecated. In a future version, integer keys will always be treated as labels (consistent with DataFrame behavior). To access a value by position, use `ser.iloc[pos]`\n",
      "  equation = f\"y = {round(coefficients[0], 2)}\"\n",
      "C:\\Users\\HP\\AppData\\Local\\Temp\\ipykernel_42376\\1935009114.py:4: FutureWarning: Series.__getitem__ treating keys as positions is deprecated. In a future version, integer keys will always be treated as labels (consistent with DataFrame behavior). To access a value by position, use `ser.iloc[pos]`\n",
      "  equation += f\" + {round(coefficients[i], 6)}*x{i}\"\n"
     ]
    }
   ],
   "source": [
    "\n",
    "# Construct the equation\n",
    "equation = f\"y = {round(coefficients[0], 2)}\"\n",
    "for i in range(1, len(coefficients)):\n",
    "    equation += f\" + {round(coefficients[i], 6)}*x{i}\"\n",
    "print(equation)\n",
    "\n"
   ]
  },
  {
   "cell_type": "code",
   "execution_count": 22,
   "id": "0c685188",
   "metadata": {},
   "outputs": [
    {
     "name": "stdout",
     "output_type": "stream",
     "text": [
      "3662.65\n",
      "3304.8\n",
      "50\n",
      "59.0\n",
      "1.0\n",
      "8.0\n",
      "30.942394\n"
     ]
    }
   ],
   "source": [
    "\n",
    "# Display the first values of selected columns\n",
    "print(subset_data['MPCE_MRP'].head(1).values[0])\n",
    "print(subset_data['MPCE_URP'].head(1).values[0])\n",
    "print(subset_data['Age'].head(1).values[0])\n",
    "print(subset_data['Meals_At_Home'].head(1).values[0])\n",
    "print(subset_data['Possess_ration_card'].head(1).values[0])\n",
    "print(subset_data['Education'].head(1).values[0])\n",
    "print(subset_data['foodtotal_q'].head(1).values[0])"
   ]
  },
  {
   "cell_type": "code",
   "execution_count": null,
   "id": "3e3fb028",
   "metadata": {},
   "outputs": [],
   "source": []
  }
 ],
 "metadata": {
  "kernelspec": {
   "display_name": "Python 3 (ipykernel)",
   "language": "python",
   "name": "python3"
  },
  "language_info": {
   "codemirror_mode": {
    "name": "ipython",
    "version": 3
   },
   "file_extension": ".py",
   "mimetype": "text/x-python",
   "name": "python",
   "nbconvert_exporter": "python",
   "pygments_lexer": "ipython3",
   "version": "3.11.7"
  }
 },
 "nbformat": 4,
 "nbformat_minor": 5
}
